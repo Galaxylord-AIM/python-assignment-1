{
  "nbformat": 4,
  "nbformat_minor": 0,
  "metadata": {
    "colab": {
      "name": "python-assignment-1-skillsanta",
      "provenance": [],
      "collapsed_sections": [],
      "authorship_tag": "ABX9TyPXEVetmkrGkenZpAYonpp6"
    },
    "kernelspec": {
      "name": "python3",
      "display_name": "Python 3"
    }
  },
  "cells": [
    {
      "cell_type": "markdown",
      "metadata": {
        "id": "oHkvaRKwLiUg"
      },
      "source": [
        "# ***Task***\n"
      ]
    },
    {
      "cell_type": "markdown",
      "metadata": {
        "id": "5u0NRiWVLzTy"
      },
      "source": [
        "1.Python Program to Find the Largest Number in a List"
      ]
    },
    {
      "cell_type": "code",
      "metadata": {
        "id": "F3E42a8jKxvn",
        "outputId": "49efe663-71a0-4954-8048-a3246a66d435",
        "colab": {
          "base_uri": "https://localhost:8080/"
        }
      },
      "source": [
        "#largest # list of numbers \n",
        "list = [10, 20, 4, 45, 99] \n",
        "# printing the largest element \n",
        "print(\"Largest element is:\", max(list))"
      ],
      "execution_count": 3,
      "outputs": [
        {
          "output_type": "stream",
          "text": [
            "Largest element is: 99\n"
          ],
          "name": "stdout"
        }
      ]
    },
    {
      "cell_type": "markdown",
      "metadata": {
        "id": "AFj6pcWtL1np"
      },
      "source": [
        "2.Python Program to Find the Second Largest Number in a List"
      ]
    },
    {
      "cell_type": "code",
      "metadata": {
        "id": "4mbiVsFeLXul",
        "outputId": "5e6bdfe0-e211-486f-a00d-789ced6ada9e",
        "colab": {
          "base_uri": "https://localhost:8080/"
        }
      },
      "source": [
        "list = [11,22,1,2,5,67,21,32]\n",
        "# using built-in sort method\n",
        "list.sort()\n",
        "# second last element\n",
        "print(\"Second largest element in the list is:\", list[-2])"
      ],
      "execution_count": 4,
      "outputs": [
        {
          "output_type": "stream",
          "text": [
            "Second largest element in the list is: 32\n"
          ],
          "name": "stdout"
        }
      ]
    },
    {
      "cell_type": "markdown",
      "metadata": {
        "id": "M_cg2XC-L4Bj"
      },
      "source": [
        "3.Python Program to Merge Two Lists and Sort it"
      ]
    },
    {
      "cell_type": "code",
      "metadata": {
        "id": "SOtPwpX7LVwh",
        "outputId": "ecbbd91f-e10f-479e-9d8f-c87bc24e020a",
        "colab": {
          "base_uri": "https://localhost:8080/"
        }
      },
      "source": [
        "a=[]\n",
        "c=[]\n",
        "n1=int(input(\"Enter number of elements:\"))\n",
        "for i in range(1,n1+1):\n",
        "    b=int(input(\"Enter element:\"))\n",
        "    a.append(b)\n",
        "n2=int(input(\"Enter number of elements:\"))\n",
        "for i in range(1,n2+1):\n",
        "    d=int(input(\"Enter element:\"))\n",
        "    c.append(d)\n",
        "new=a+c\n",
        "new.sort()\n",
        "print(\"Sorted list is:\",new)"
      ],
      "execution_count": 6,
      "outputs": [
        {
          "output_type": "stream",
          "text": [
            "Enter number of elements:3\n",
            "Enter element:12\n",
            "Enter element:23\n",
            "Enter element:54\n",
            "Enter number of elements:2\n",
            "Enter element:32435\n",
            "Enter element:1\n",
            "Sorted list is: [1, 12, 23, 54, 32435]\n"
          ],
          "name": "stdout"
        }
      ]
    },
    {
      "cell_type": "markdown",
      "metadata": {
        "id": "pY53b4GhL6H5"
      },
      "source": [
        "4.Python Program to Swap the First and Last Value of a List"
      ]
    },
    {
      "cell_type": "code",
      "metadata": {
        "id": "scyYcWK0LTvg",
        "outputId": "ac987dbf-a710-4393-8bf7-cd4a243f277e",
        "colab": {
          "base_uri": "https://localhost:8080/"
        }
      },
      "source": [
        "# swap first and last element of a list\n",
        "# Swap function\n",
        "def swap(List):\n",
        "\t\n",
        "\tList[0], List[-1] = List[-1], List[0]\n",
        "\treturn List\n",
        "\t\n",
        "# Driver code\n",
        "List= [12, 35, 9, 56, 24]\n",
        "print(swap(List))"
      ],
      "execution_count": 7,
      "outputs": [
        {
          "output_type": "stream",
          "text": [
            "[24, 35, 9, 56, 12]\n"
          ],
          "name": "stdout"
        }
      ]
    }
  ]
}